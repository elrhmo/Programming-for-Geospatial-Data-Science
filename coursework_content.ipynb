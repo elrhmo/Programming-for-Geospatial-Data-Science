{
 "cells": [
  {
   "cell_type": "markdown",
   "metadata": {},
   "source": [
    "\n",
    "# Programming for Geospatial Data Science\n",
    "\n",
    "### Overview\n",
    "\n",
    "- This coursework aims to create reproducible analyses to assess the following learning outcomes: programming core concepts, Python, packages for vector and raster data."
   ]
  },
  {
   "cell_type": "markdown",
   "metadata": {},
   "source": [
    "## Question 1: 2 points\n",
    "### Answer the following questions:"
   ]
  },
  {
   "cell_type": "markdown",
   "metadata": {},
   "source": [
    "1. What is a data structure?\n",
    "2. Why is list comprehension fastest that a typical loop?\n",
    "3. Let x = [1,'BBK', [3,'a'],-12.93]. What is the type of the variable x?\n",
    "4. How many types of fuctions can we find in Python?\n",
    "5. What is the difference between .loc and .iloc?"
   ]
  },
  {
   "cell_type": "markdown",
   "metadata": {},
   "source": [
    "1. A data structure is a specialised way of organising, processing, retrieving and storing data.\n",
    "\n",
    "\n",
    "2. List comprehension is faster than a typical loop because it is more concise, achieving the same result as for loops but in one line of code. Unlike for loops, list comprehension doesn't have to look up the list and then use the ```append()``` method for every iteration, making the process faster.\n",
    "\n",
    "\n",
    "3. Nested list - a list that has a sublist as an element. \n",
    "\n",
    "\n",
    "4. There are 3 types of functions in Python. \n",
    "    1. **Built-in functions** - pre-defined functions.\n",
    "    2. **Functions from packages** - pre-defined functions from packages.\n",
    "    3. **User defined functions** - functions defined by the user to perform any specific task.\n",
    "\n",
    "\n",
    "5. loc (location) and iloc (index location):\n",
    "    - loc selects dataframe rows and columns with specific labels/names.\n",
    "    - iloc selects dataframe rows and columns at specific integer index positions."
   ]
  },
  {
   "cell_type": "markdown",
   "metadata": {},
   "source": [
    "## Question 2: 3 points\n",
    "### Load the file worldCities.csv into a dataframe named cities and code the following tasks:\n",
    "1. Show the last ten records of cities\n",
    "2. Show all the cities in the African continent\n",
    "3. Show only the name and population of each city in the UK\n",
    "4. Show all cities in Japan with a population > 1000 and less than 10000\n",
    "5. Show a seaborn histrogram for the population distribution for all the cities in Spain."
   ]
  },
  {
   "cell_type": "markdown",
   "metadata": {},
   "source": [
    "###### 2.1. Show the last ten records of cities"
   ]
  },
  {
   "cell_type": "code",
   "execution_count": null,
   "metadata": {},
   "outputs": [],
   "source": [
    "# importing pandas, geopandas and matplotlib libraries\n",
    "import pandas as pd\n",
    "import geopandas\n",
    "import matplotlib.pyplot as plt\n",
    "\n",
    "# reading in the 'worldCities' csv as a dataframe stored in the variable named 'cities_org'\n",
    "cities_org = pd.read_csv('data/worldCities.csv')\n",
    "\n",
    "# exploring and preparing the dataframe\n",
    "cities_org.shape\n",
    "# the dataframe is made up of 39000 rows and 6 columns\n",
    "\n",
    "# summarising for each column the number of null values in the dataframe\n",
    "cities_org.isnull().sum()"
   ]
  },
  {
   "cell_type": "code",
   "execution_count": null,
   "metadata": {},
   "outputs": [],
   "source": [
    "# displaying the null values in more detail\n",
    "cities_org[cities_org['city'].isnull()]\n",
    "cities_org[cities_org['population'].isnull()]\n",
    "\n",
    "# removing the null values from the dataframe using the dropna() method storing the cleaned dataframe in the variable 'cities'\n",
    "cities = cities_org.dropna()\n",
    "\n",
    "cities.shape\n",
    "# the 'cities' dataframe is made up of 38996 rows and 6 columns"
   ]
  },
  {
   "cell_type": "code",
   "execution_count": null,
   "metadata": {},
   "outputs": [],
   "source": [
    "# verifying null values have been removed using an if/else statement \n",
    "if cities.isnull().values.any() == False:\n",
    "    print('There are no null values within this dataframe')\n",
    "else: \n",
    "    print ('Null values are present within this dataframe, please review')"
   ]
  },
  {
   "cell_type": "code",
   "execution_count": null,
   "metadata": {},
   "outputs": [],
   "source": [
    "# using the tail method to return the last 10 rows of the dataframe\n",
    "cities.tail(10)"
   ]
  },
  {
   "cell_type": "markdown",
   "metadata": {},
   "source": [
    "###### 2.2. Show all the cities in the African continent"
   ]
  },
  {
   "cell_type": "code",
   "execution_count": null,
   "metadata": {},
   "outputs": [],
   "source": [
    "# reading in the naturalearth_lowres data provided with geopandas \n",
    "world = geopandas.read_file(geopandas.datasets.get_path('naturalearth_lowres')) \n",
    "\n",
    "# checking for null values in the 'world' dataframe:\n",
    "world.isnull().values.any()\n",
    "\n",
    "# creating an African countries dataframe where continent is equal to Africa\n",
    "african_co = world[world.continent=='Africa']\n",
    "\n",
    "# converting 'cities' dataframe to a geodataframe  \n",
    "# using geopandas points_from_xy() to transform lat (Latitude) and lon (Longitude) into a geometry column of points \n",
    "# as per geopandas documentation: https://geopandas.org/en/stable/gallery/create_geopandas_from_pandas.html\n",
    "cities_gdf = geopandas.GeoDataFrame(cities, geometry=geopandas.points_from_xy(cities.lon, cities.lat))\n",
    "\n",
    "# setting and converting the CRS for both respective geodataframes \n",
    "cities_gdf = cities_gdf.set_crs(\"EPSG:4326\")\n",
    "african_co = african_co.to_crs(\"EPSG:4326\")\n",
    "\n",
    "# spatial join to identify African cities based on whether a 'cities_gdf' point geometry is within the an 'african_co'\n",
    "# polygon geometry \n",
    "african_cities = geopandas.tools.sjoin(cities_gdf, african_co, predicate=\"within\", how='inner')\n",
    "\n",
    "# using the shape() function to identifies the number of rows within the 'african_cities' dataframe\n",
    "african_cities.shape\n",
    "# 2013 cities are located within countries that are assigned to the African continent \n",
    "\n",
    "# displaying African cities from the dataframe\n",
    "african_cities['city']\n",
    "\n",
    "# using list comprehension to create and display a list of African cities\n",
    "african_cities_list = [city for city in african_cities['city']]\n",
    "print(african_cities_list)"
   ]
  },
  {
   "cell_type": "code",
   "execution_count": null,
   "metadata": {},
   "outputs": [],
   "source": [
    "# plotting African cities with geopandas to identify possible errors\n",
    "\n",
    "# using the naturalearth_lowres data store within the 'world' variable as basemap for the plot\n",
    "base = world.geometry.plot(figsize=(16, 12), color='lightgray', linewidth=0.5, edgecolor=\"black\", alpha=0.4)\n",
    "# plotting all cities in blue                           \n",
    "cities_gdf.plot(ax=base, linewidth=1, color=\"blue\", markersize=0.1)\n",
    "# plotting African cities in red\n",
    "african_cities.plot(ax=base, linewidth=1, color=\"red\", markersize=0.1)\n",
    "plt.show()"
   ]
  },
  {
   "cell_type": "markdown",
   "metadata": {},
   "source": [
    "- Please note, the 'world' dataframe contains 177 countries and doesn't include all African countries. For example, Mauritius is African island east of the mainland continent but is not within in the 'world' dataframe and therefore not included in the spatial join.\n",
    "\n",
    "\n",
    "- An alternative method to locate African cities would be to create a list of African countries and populate an additional continent column in the 'cities' dataframe with Africa if its country matches the country in the African countries list. \n",
    "- However, this relies of the country's name exactly matching in both the dataframe and the list."
   ]
  },
  {
   "cell_type": "markdown",
   "metadata": {},
   "source": [
    "###### 2.3. Show only the name and population of each city in the UK"
   ]
  },
  {
   "cell_type": "code",
   "execution_count": null,
   "metadata": {},
   "outputs": [],
   "source": [
    "# selecting cities where country is 'UK' and storing the output in the variable 'uk_cities'\n",
    "uk_cities = cities[cities.country=='UK']\n",
    "\n",
    "# displaying only 'city' and 'population' columns from the 'uk_cities' dataframe\n",
    "uk_cities[['city', 'population']]"
   ]
  },
  {
   "cell_type": "code",
   "execution_count": null,
   "metadata": {},
   "outputs": [],
   "source": [
    "# creating and displaying a dictionary for UK cities and their population \n",
    "# code adapted from: https://cmdlinetips.com/2021/04/convert-two-column-values-from-pandas-dataframe-to-a-dictionary/\n",
    "uk_cities_dic = dict(zip(uk_cities.city, uk_cities.population))\n",
    "uk_cities_dic"
   ]
  },
  {
   "cell_type": "markdown",
   "metadata": {},
   "source": [
    "###### 2.4. Show all cities in Japan with a population > 1000 and less than 10000"
   ]
  },
  {
   "cell_type": "code",
   "execution_count": null,
   "metadata": {},
   "outputs": [],
   "source": [
    "# selecting cities where country is equal to 'Japan' and storing in the vairable 'japan_cities'\n",
    "japan_cities = cities[cities.country=='Japan']\n",
    "\n",
    "# using the query() function to display cities with a population greater than 1000 and less than 10000\n",
    "japan_cities.query(\"1000 < population < 10000\")"
   ]
  },
  {
   "cell_type": "code",
   "execution_count": null,
   "metadata": {},
   "outputs": [],
   "source": [
    "# translating the queried Japanses cities into English and displaying output using list comprehension \n",
    "# code adapted from: https://medium.com/analytics-vidhya/how-to-translate-text-with-python-9d203139dcf5\n",
    "\n",
    "# uncomment the following line to install 'deep-translator' if needed\n",
    "#!pip install deep-translator\n",
    "\n",
    "# import GoogleTanslator library \n",
    "from deep_translator import GoogleTranslator\n",
    "\n",
    "# storing the queried dataframe into a vairbale named 'japan_cities_query'\n",
    "japan_cities_query = japan_cities.query(\"1000 < population < 10000\")\n",
    "\n",
    "# using list comprehension to create a list of Japanses cities, tranlated into English, with a population \n",
    "# greater than 1000 and less than 10000\n",
    "translated = [(GoogleTranslator(source='auto', target='en').translate(city)) for city in japan_cities_query['city']]\n",
    "\n",
    "# printing the translated list \n",
    "print(translated)"
   ]
  },
  {
   "cell_type": "markdown",
   "metadata": {},
   "source": [
    "###### 2.5. Show a seaborn histrogram for the population distribution for all the cities in Spain"
   ]
  },
  {
   "cell_type": "code",
   "execution_count": null,
   "metadata": {},
   "outputs": [],
   "source": [
    "# importing seaborn library\n",
    "# uncomment the following line to install 'seaborn' if needed\n",
    "#!pip install seaborn\n",
    "import seaborn as sns\n",
    "\n",
    "# creating a new dataframe named 'spain_cities' where the country is equal to 'España'\n",
    "spain_cities = cities[cities.country=='España']\n",
    "\n",
    "# setting the plot style\n",
    "sns.set_style('darkgrid')\n",
    "\n",
    "# creating the frame and canvas for the plot\n",
    "fig, ax = plt.subplots(1,figsize=(10,4))\n",
    "\n",
    "# seaborn histogram plot using 'population' data from the 'spain_cities' dataframe \n",
    "# colour set to 'indigo', alpha (transparency) set to 0.6 and adding a kernel density estimation\n",
    "sns.histplot(data=spain_cities, x=\"population\", binwidth=10000, color='indigo', alpha=0.6, kde=True)\n",
    "\n",
    "# adding a title and label to the x-axis\n",
    "ax.set(title='Population of Spanish Cities', xlabel='Population');"
   ]
  },
  {
   "cell_type": "code",
   "execution_count": null,
   "metadata": {
    "scrolled": true
   },
   "outputs": [],
   "source": [
    "# using the describe function to show statistics of the population of Spanish cities\n",
    "spain_cities[\"population\"].describe()\n",
    "\n",
    "# the distribution displays a postive skew, with the 75% of cities having a population of less than 25640 people"
   ]
  },
  {
   "cell_type": "markdown",
   "metadata": {},
   "source": [
    "Real-world data is often skewed. For heavily skewed distributions, it’s better to define the bins in log space as per the [seaborn documentation](https://seaborn.pydata.org/generated/seaborn.histplot.html)"
   ]
  },
  {
   "cell_type": "code",
   "execution_count": null,
   "metadata": {},
   "outputs": [],
   "source": [
    "# seaborn histogram plot using a log scale\n",
    "fig, ax = plt.subplots(1,figsize=(10,4))\n",
    "sns.histplot(data=spain_cities, x=\"population\",log_scale=True, color='indigo', alpha=0.6)\n",
    "\n",
    "# adding a title and label to the x-axis\n",
    "ax.set(title='Population of Spanish Cities using a log scale', xlabel='Population');"
   ]
  },
  {
   "cell_type": "code",
   "execution_count": null,
   "metadata": {},
   "outputs": [],
   "source": [
    "# subplot to compare the standard population distribution and population distribution using a log scale\n",
    "\n",
    "# creating a histogram for each subplot\n",
    "fig, ax = plt.subplots(1,2,figsize=(10,4))\n",
    "sns.histplot(data=spain_cities, x='population', color='indigo', alpha=0.6, ax=ax[0])\n",
    "sns.histplot(data=spain_cities, x='population', log_scale=True, color='indigo', alpha=0.6, ax=ax[1])\n",
    "\n",
    "# adding titles and labels to the subplots\n",
    "ax[0].set(title='Population of Spanish Cities', xlabel='Population');\n",
    "ax[1].set(title='Population of Spanish Cities using a log scale', xlabel='Population');"
   ]
  },
  {
   "cell_type": "markdown",
   "metadata": {},
   "source": [
    "## Question 3: 1 point\n",
    "### Define and show the result of a function that print the result of $\\sqrt n!$ , where $!$ represent the factorial of n. You need to show the result for all **ODD** numbers in the interval [1,20]"
   ]
  },
  {
   "cell_type": "code",
   "execution_count": null,
   "metadata": {},
   "outputs": [],
   "source": [
    "#3.\n",
    "# factorial of n\n",
    "# ------------------\n",
    "# the factorial of a number is the product of all the integers from 1 to that number\n",
    "# n! = n * (n-1) * (n-2) * (n-3) * .... 3*2*1\n",
    "\n",
    "# creating a user defined factorial function\n",
    "\n",
    "# code for factorial function adapted from: https://www.programiz.com/python-programming/examples/factorial\n",
    "# details on recursive functions: https://www.programiz.com/python-programming/recursion\n",
    "def factorial(n):\n",
    "    \"\"\"This is a recursive function\n",
    "    to find the factorial of an integer\"\"\"\n",
    "    if n == 0:\n",
    "        return 1\n",
    "    # error handling \n",
    "    # if parameter is not an integer, raise an error\n",
    "    elif isinstance(n, int) == False:\n",
    "        raise RuntimeError('Parameter needs to be an integer, please try again')\n",
    "    # if parameter is less than 0, raise an error\n",
    "    elif n < 0:\n",
    "        raise RuntimeError('Factorial of a negative number is undefined, please try again')\n",
    "    # recursive call to the factorial() function\n",
    "    else:\n",
    "        return (n * factorial(n-1))"
   ]
  },
  {
   "cell_type": "code",
   "execution_count": null,
   "metadata": {},
   "outputs": [],
   "source": [
    "# importing the math library\n",
    "import math\n",
    "\n",
    "# creating a user defined function that calculates the square route of the output of the factorial function \n",
    "def sqrt_factorial(n):\n",
    "    \"\"\"This is a function to calculate \n",
    "    the square root of a factorial integer\"\"\"\n",
    "    fact = factorial(n)\n",
    "    sqrt_fact = math.sqrt(fact)\n",
    "    return sqrt_fact"
   ]
  },
  {
   "cell_type": "code",
   "execution_count": null,
   "metadata": {},
   "outputs": [],
   "source": [
    "# creating a user defined function that calculates the square route of factorial numbers between a range of integers\n",
    "# utilsing the factorial() and sqrt_factorial() functions\n",
    "\n",
    "def sqrt_factorial_odd(range_lower, range_upper):\n",
    "    \"\"\"This is a function to calculate \n",
    "    the square root of a factorial integer,\n",
    "    given a range values, only displaying the\n",
    "    results of odd intervals between the\n",
    "    input parameters\"\"\" \n",
    "    for n in range(int(range_lower), int(range_upper + 1)): # the range() function produces a sequence of numbers \n",
    "                                                            # up to the stop number but never includes the stop number.\n",
    "                                                            # therefore, by adding 1 to upper range value it includes it as a \n",
    "                                                            # stop number rather than up to it\n",
    "        # error handling \n",
    "        # raising errors if the range parameters aren't integers\n",
    "        if isinstance(range_lower, int) == False:\n",
    "            raise RuntimeError('Range parameter needs to be an integer, please try again')\n",
    "        elif isinstance(range_upper, int) == False:\n",
    "            raise RuntimeError('Range parameter needs to be an integer, please try again')\n",
    "        # if range1 and range2 are both integer, then proceed\n",
    "        else:\n",
    "        # the modulus of an odd number is not equal to 0\n",
    "        # determining whether n is odd by it's modulus not being equal to 0\n",
    "            if n % 2 != 0:\n",
    "                print(sqrt_factorial(n))\n",
    "        "
   ]
  },
  {
   "cell_type": "code",
   "execution_count": null,
   "metadata": {},
   "outputs": [],
   "source": [
    "# using the sqrt_factorial_odd() function to calculate the square route of odd integers factorials of  in the range of [1,20]\n",
    "sqrt_factorial_odd(1, 20)"
   ]
  },
  {
   "cell_type": "markdown",
   "metadata": {},
   "source": [
    "## Question 4: 2 points\n",
    "### Create and test a user-defined function that that takes takes three input parameters: (a) a path to a raster file, (b) a path to a raster output file that will be created and (c) a numeric threshold.\n",
    "### The function should reclassify the raster as a binary raster with True (1) if the value is >= threshold, and False (0) <br> if the value is < threshold and save this reclassification on a new raster in the specified path provided at (b). The function returns True when completing correctly.\n",
    "\n",
    "#### You can test your function with any of the raster provided in the data folder."
   ]
  },
  {
   "cell_type": "code",
   "execution_count": null,
   "metadata": {},
   "outputs": [],
   "source": [
    "# importing relevant libraries\n",
    "\n",
    "# uncomment the following line to install 'rasterio' if needed\n",
    "#!pip install rasterio\n",
    "\n",
    "import rasterio \n",
    "import rasterio.plot\n",
    "import numpy as np\n",
    "import matplotlib.pyplot as plt\n",
    "import seaborn as sns\n",
    "from matplotlib.colors import TwoSlopeNorm"
   ]
  },
  {
   "cell_type": "code",
   "execution_count": null,
   "metadata": {},
   "outputs": [],
   "source": [
    "# creating a user-defined raster threshold function\n",
    "# code adapted from lecture 6 content \n",
    "\n",
    "def raster_threshold(in_path, out_path, threshold):\n",
    "    \"\"\"This function reclassifies a raster as a\n",
    "    binary raster with True (1) or False (0) based\n",
    "    on a threshold value and saves the reclassified \n",
    "    raster in a specified path\"\"\"\n",
    "\n",
    "    # error handing\n",
    "    # raising error if paths aren't strings and the threshold isn't an integer or float\n",
    "    for path in [in_path, out_path]:\n",
    "        if isinstance(path, str) == False:\n",
    "            raise RuntimeError('Path needs to be a valid directory, please try again')\n",
    "    if isinstance(threshold, (float, int)) == False:\n",
    "        raise RuntimeError('Threshold value must be a number, please try again')\n",
    "    \n",
    "    else:\n",
    "        # using the in_path parameter and rastio.open() function to access the raster as an object and store it in the\n",
    "        # variable named 'in_data'\n",
    "        # masked=True tells rasterio to ignore the NULL values\n",
    "        in_data = rasterio.open(in_path, mask=True)\n",
    "\n",
    "        # reading in the first band of the raster and storing in the variable named 'vals'\n",
    "        vals = in_data.read(1, masked=True)\n",
    "\n",
    "        # copying the data matrix to preserve the original data\n",
    "        recl_vals = vals.copy()\n",
    "        # reclassification base on threshold parameter value\n",
    "        recl_vals[vals >= threshold] = 1\n",
    "        recl_vals[vals < threshold] = 0\n",
    "\n",
    "        # saving the reclassified raster file, using metadata from the input files\n",
    "        out_data = rasterio.open(out_path, 'w', \n",
    "            driver='GTiff', # output format\n",
    "            height=recl_vals.shape[0], # size of matrix\n",
    "            width=recl_vals.shape[1], # size of matrix\n",
    "            count=1, # number of bands\n",
    "            dtype=recl_vals.dtype, # type of data (e.g., floating point)\n",
    "            crs=in_data.crs, # CRS (e.g., Lambert, WGS84, UTM, etc.)\n",
    "            nodata=in_data.nodata, # value used to represent NO DATA\n",
    "            transform=in_data.transform # geocoordinate transformation\n",
    "        )\n",
    "\n",
    "        out_data.write(recl_vals, 1)\n",
    "        out_data.close()\n",
    "    \n",
    "    # the function returns True when completed correctly\n",
    "    return True"
   ]
  },
  {
   "cell_type": "markdown",
   "metadata": {},
   "source": [
    "###### Testing the raster_threshold() function "
   ]
  },
  {
   "cell_type": "code",
   "execution_count": null,
   "metadata": {},
   "outputs": [],
   "source": [
    "# plot_raster() function - user defined function adapted from: https://geoscripting-wur.github.io/PythonRaster\n",
    "# note, the default values (Blues, 10, 10).\n",
    "def plot_raster(rast, val_matrix, plot_title, value_label, cmap='Blues', width=10, height=10, diverge_zero=False):\n",
    "    \"\"\"Plots a rasterio raster with sensible settings and with a legend .\n",
    "        @ rast: rasterio file (used to read the geocoordinates)\n",
    "        @ val_matrix: extracted values (used to read the raster values)\n",
    "        @ plot_title: title of the whole figure\n",
    "        @ value_label: quantity being displayed\n",
    "        @ diverge_zero: true if using a divergent cmap to center colour map on zero\n",
    "    \"\"\"\n",
    "    # defining the plot frame and canvas \n",
    "    fig, ax = plt.subplots(figsize=(6,6))\n",
    "    # image_hidden is a hack to show the legend\n",
    "    if diverge_zero:\n",
    "        image_hidden = ax.imshow(val_matrix, cmap=cmap, norm=TwoSlopeNorm(0)) #imshow is a python function that allows you to plot images from a file, #twoslopenorm() function is used to normalise the values\n",
    "    else:\n",
    "        image_hidden = ax.imshow(val_matrix, cmap=cmap)\n",
    "\n",
    "    ax.clear()\n",
    "    # plot raster: rast.transform allows the system to show geocoordinates\n",
    "    if diverge_zero:\n",
    "        rast_plot = rasterio.plot.show(val_matrix, cmap=cmap, ax=ax, transform=rast.transform, norm=TwoSlopeNorm(0))\n",
    "    else: \n",
    "        rast_plot = rasterio.plot.show(val_matrix, cmap=cmap, ax=ax, transform=rast.transform)\n",
    "    # set plot title\n",
    "    ax.set_title(plot_title, fontsize=14)\n",
    "    # show legend with label\n",
    "    # hack to fix height\n",
    "    im_ratio = val_matrix.shape[0]/val_matrix.shape[1] \n",
    "    #plt.colorbar(im,fraction=0.046*im_ratio, pad=0.04)\n",
    "    cbar = fig.colorbar(image_hidden, ax=ax, fraction=0.046*im_ratio, pad=0.04)\n",
    "    cbar.ax.set_ylabel(value_label, rotation=270)\n",
    "    cbar.ax.get_yaxis().labelpad = 15\n",
    "    #ax.set_axis_off() # enable/disable axes\n",
    "    plt.show()"
   ]
  },
  {
   "cell_type": "code",
   "execution_count": null,
   "metadata": {},
   "outputs": [],
   "source": [
    "# testing the raster_threshold() function with 5 different threshold values using a for loop\n",
    "# working with the Himalayan Mountain range raster\n",
    "thresholds = [100,500,1000,2000,3000]\n",
    "\n",
    "for n in thresholds:\n",
    "    raster_threshold('data/dem_srtm_1km_himalayas_2009.tif', 'output/test'+ str(n) +'.tif', n)"
   ]
  },
  {
   "cell_type": "code",
   "execution_count": null,
   "metadata": {},
   "outputs": [],
   "source": [
    "# plotting all the test rasters using a for loop and the plot_raster() function \n",
    "\n",
    "for n in thresholds:\n",
    "    test_raster = rasterio.open('output/test'+str(n)+'.tif', mask=True)\n",
    "    vals = test_raster.read(1, masked=True)\n",
    "    # setting the plot style to a white using seaborn\n",
    "    # 'seaborn comes with a number of customized themes and a high-level interface for controlling the look of matplotlib figures'\n",
    "    # as per the seaborn documentation: https://seaborn.pydata.org/tutorial/aesthetics.html\n",
    "    sns.set_style(\"white\")\n",
    "    # plotting the \n",
    "    plot_raster(test_raster, vals, 'Test '+str(n) + 'm', 'Reclassified Raster Cell Values (1=max) where threshold = '+ str(n) + 'm', cmap='Reds', width=5, height=5)\n"
   ]
  },
  {
   "cell_type": "markdown",
   "metadata": {
    "jp-MarkdownHeadingCollapsed": true,
    "tags": []
   },
   "source": [
    "## Question 5: 4 points\n",
    "### Using the same dataframe from question 2, do the following tasks:\n",
    "1. Create a geodataframe building the geometry from the columns lat, lon  (Hint: https://geopandas.org/en/stable/gallery/create_geopandas_from_pandas.html)\n",
    "2. Color the points according to population distribution. You decide the number of classes, for example\n",
    "* Blue for pop<10000;\n",
    "* Red for 10000<pop<=100000;\n",
    "* Green for 100000<pop<=1000000;\n",
    "* Black for pop>1000000 <br>\n",
    "You can use https://colorbrewer2.org/#type=sequential&scheme=BuGn&n=3 to decide the colours. \n",
    "3. Your map need to include a legend for the classes.\n",
    "4. Save your map to a pdf file.\n",
    "5. As a base world map, you can use this line <br> **world = gpd.read_file(gpd.datasets.get_path('naturalearth_lowres'))** <br> and follow as a guidance the same link at point 1"
   ]
  },
  {
   "cell_type": "markdown",
   "metadata": {},
   "source": [
    "###### 5.1. Create a geodataframe building the geometry from the columns lat, lon"
   ]
  },
  {
   "cell_type": "code",
   "execution_count": null,
   "metadata": {},
   "outputs": [],
   "source": [
    "# importing the relevant libraries \n",
    "import pandas as pd\n",
    "import geopandas \n",
    "import matplotlib.pyplot as plt\n",
    "\n",
    "# reading in the 'worldCities' csv as a dataframe stored in the vairable named 'cities_ord'\n",
    "cities_org = pd.read_csv('data/worldCities.csv')\n",
    "\n",
    "# using geopandas points_from_xy() to transform lat (Latitude) and lon (Longitude) into a into a geometry column of points \n",
    "# as per geopandas documentation https://geopandas.org/en/stable/gallery/create_geopandas_from_pandas.html\n",
    "cities_org = geopandas.GeoDataFrame(cities, geometry=geopandas.points_from_xy(cities.lon, cities.lat))\n",
    "\n",
    "# removing null values from the geodataframe using the dropna() method\n",
    "cities_gdf = cities_org.dropna()\n",
    "\n",
    "# displaying the cleaned geodataframe\n",
    "cities_gdf"
   ]
  },
  {
   "cell_type": "markdown",
   "metadata": {},
   "source": [
    "###### 5.2. Color the points according to population distribution"
   ]
  },
  {
   "cell_type": "code",
   "execution_count": null,
   "metadata": {},
   "outputs": [],
   "source": [
    "# mapclassify library allows classification schemes for choropleth maps\n",
    "# uncomment the following line to install 'mapclassify' if needed\n",
    "#!pip install mapclassify\n",
    "import mapclassify \n",
    "\n",
    "# plotting the data with quantile binning scheme and 6 classes\n",
    "# quantile binning aims to assign the same number of observations to each bin\n",
    "cities_gdf.plot(column='population', scheme='Quantiles', k=6)\n",
    "plt.show()"
   ]
  },
  {
   "cell_type": "markdown",
   "metadata": {},
   "source": [
    "###### 5.3. Your map need to include a legend for the classes"
   ]
  },
  {
   "cell_type": "code",
   "execution_count": null,
   "metadata": {},
   "outputs": [],
   "source": [
    "# adding a legend, changing the size of the points and colour to 'plasma'\n",
    "# displaying a legend with the threshold values as integers\n",
    "cities_gdf.plot(column='population', figsize=(16, 12), s=1, scheme='Quantiles', cmap=\"plasma\", k=6, legend=True,\n",
    "         legend_kwds={'fmt': '{:.0f}','loc': 'lower left', 'title': 'Population'})\n",
    "# adding a title\n",
    "plt.title(\"Population distribution of world cities\")\n",
    "plt.show()"
   ]
  },
  {
   "cell_type": "markdown",
   "metadata": {},
   "source": [
    "###### 5.4. Save your map to a pdf file"
   ]
  },
  {
   "cell_type": "code",
   "execution_count": null,
   "metadata": {},
   "outputs": [],
   "source": [
    "# plotting the data from the geodataframe\n",
    "cities_gdf.plot(column='population', figsize=(16, 12), s=1, scheme='Quantiles', cmap=\"plasma\", k=6, legend=True,\n",
    "         legend_kwds={'fmt': '{:.0f}','loc': 'lower left', 'title': 'Population'})\n",
    "# adding a title\n",
    "plt.title(\"Population distribution of world cities\")\n",
    "\n",
    "# saving map as a pdf in the output directory \n",
    "plt.savefig('output/city_popualtion.pdf')"
   ]
  },
  {
   "cell_type": "markdown",
   "metadata": {},
   "source": [
    "###### 5.5. Add a base world map"
   ]
  },
  {
   "cell_type": "code",
   "execution_count": null,
   "metadata": {},
   "outputs": [],
   "source": [
    "# reading in a basemap using the naturalearth_lowres data provided with geopandas\n",
    "world = geopandas.read_file(geopandas.datasets.get_path('naturalearth_lowres'))\n",
    "\n",
    "# storing the basemap in the variable 'ax'\n",
    "ax = world.plot(figsize = (16,12), color='lightgray', alpha = 0.5, edgecolor=\"gray\", linewidth=1)\n",
    "\n",
    "# plotting cities geodataframe with basemap\n",
    "cities_gdf.plot(ax = ax, column='population', s=1, scheme='Quantiles', cmap=\"plasma\", k=6, legend=True,\n",
    "         legend_kwds={'fmt': '{:.0f}','loc': 'lower left', 'title': 'Population'})\n",
    "# adding a title\n",
    "plt.title(\"Population distribution of world cities\")\n",
    "plt.show()"
   ]
  },
  {
   "cell_type": "markdown",
   "metadata": {},
   "source": [
    "###### Exploring the distribution of world cities with a interactive visualisation using pydeck"
   ]
  },
  {
   "cell_type": "code",
   "execution_count": null,
   "metadata": {},
   "outputs": [],
   "source": [
    "# height of the column is determined by the population \n",
    "\n",
    "# code adapted from: \n",
    "# https://pydeck.gl/layer.html\n",
    "# https://deckgl.readthedocs.io/en/latest/gallery/column_layer.html\n",
    "# and https://discuss.streamlit.io/t/how-to-make-pydeck-chart-hexagon-layer-bar-height-based-on-column-value/3959\n",
    "\n",
    "# uncomment the following line to install 'pydeck' if needed\n",
    "#!pip install pydeck\n",
    "import pydeck as pdk\n",
    "\n",
    "# setting the viewport location and zoom\n",
    "view_state = pdk.ViewState(\n",
    "    longitude=0,\n",
    "    latitude=45,\n",
    "    zoom=3,\n",
    "    min_zoom=3,\n",
    "    max_zoom=10,\n",
    "    pitch=75,\n",
    "    bearing=0,)\n",
    "\n",
    "# assigning the layer details to the variable 'column_layer'\n",
    "column_layer = pdk.Layer(\n",
    "    \"ColumnLayer\",\n",
    "    data=cities_gdf,\n",
    "    get_position=[\"lon\", \"lat\"],\n",
    "    get_elevation=\"population\",\n",
    "    elevation_scale=0.1,\n",
    "    radius=1000,\n",
    "    get_fill_color=['population'],\n",
    "    pickable=True,\n",
    "    auto_highlight=True,)\n",
    "\n",
    "# preparing tooltip popup to display city and population details\n",
    "tooltip = {\n",
    "    \"html\": \"<b>{city}</b> has a population of <b>{population}</b>\",\n",
    "    \"style\": {\"background\": \"grey\", \"color\": \"white\", \"font-family\": '\"Helvetica Neue\", Arial', \"z-index\": \"10000\"},}\n",
    "\n",
    "# combining the layer vairables and rendering the viewport\n",
    "r = pdk.Deck(column_layer, initial_view_state=view_state,tooltip=tooltip)\n",
    "r\n",
    "\n",
    "# hold CTR to pan the map"
   ]
  },
  {
   "cell_type": "markdown",
   "metadata": {},
   "source": [
    "# Good luck!"
   ]
  },
  {
   "cell_type": "markdown",
   "metadata": {},
   "source": [
    "### End of Notebook"
   ]
  }
 ],
 "metadata": {
  "kernelspec": {
   "display_name": "Python 3 (ipykernel)",
   "language": "python",
   "name": "python3"
  },
  "language_info": {
   "codemirror_mode": {
    "name": "ipython",
    "version": 3
   },
   "file_extension": ".py",
   "mimetype": "text/x-python",
   "name": "python",
   "nbconvert_exporter": "python",
   "pygments_lexer": "ipython3",
   "version": "3.11.0"
  },
  "toc-autonumbering": false,
  "toc-showmarkdowntxt": false
 },
 "nbformat": 4,
 "nbformat_minor": 4
}
